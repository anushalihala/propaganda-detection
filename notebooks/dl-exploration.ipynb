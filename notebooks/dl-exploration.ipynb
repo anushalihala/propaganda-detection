{
 "cells": [
  {
   "cell_type": "markdown",
   "metadata": {},
   "source": [
    "**Note: this notebook was executed on Google Colab**"
   ]
  },
  {
   "cell_type": "code",
   "execution_count": 0,
   "metadata": {
    "colab": {
     "base_uri": "https://localhost:8080/",
     "height": 54
    },
    "colab_type": "code",
    "id": "FE9y40ZKUKh6",
    "outputId": "0eaa9ebc-6f26-47f9-e218-1684e4221355"
   },
   "outputs": [
    {
     "name": "stdout",
     "output_type": "stream",
     "text": [
      "Drive already mounted at /content/drive; to attempt to forcibly remount, call drive.mount(\"/content/drive\", force_remount=True).\n"
     ]
    }
   ],
   "source": [
    "from google.colab import drive\n",
    "drive.mount('/content/drive')"
   ]
  },
  {
   "cell_type": "code",
   "execution_count": 0,
   "metadata": {
    "colab": {},
    "colab_type": "code",
    "id": "nsmlAi9PtBsN"
   },
   "outputs": [],
   "source": [
    "import numpy as np\n",
    "import pandas as pd\n",
    "import time"
   ]
  },
  {
   "cell_type": "code",
   "execution_count": 0,
   "metadata": {
    "colab": {},
    "colab_type": "code",
    "id": "9nJLByXVtBsX"
   },
   "outputs": [],
   "source": [
    "from nltk import word_tokenize\n",
    "from spacy.lang.en import English"
   ]
  },
  {
   "cell_type": "code",
   "execution_count": 0,
   "metadata": {
    "colab": {
     "base_uri": "https://localhost:8080/",
     "height": 34
    },
    "colab_type": "code",
    "id": "hRU4AsuYtBsd",
    "outputId": "e91d1310-203e-4681-c604-c7b272786112"
   },
   "outputs": [
    {
     "name": "stderr",
     "output_type": "stream",
     "text": [
      "Using TensorFlow backend.\n"
     ]
    }
   ],
   "source": [
    "from keras.preprocessing.sequence import pad_sequences\n",
    "from keras.layers import Input, Embedding, LSTM, Dropout, Bidirectional, BatchNormalization, Flatten, Dense, CuDNNLSTM\n",
    "from keras.models import Model\n",
    "from keras.callbacks import ModelCheckpoint, TensorBoard, EarlyStopping"
   ]
  },
  {
   "cell_type": "code",
   "execution_count": 0,
   "metadata": {
    "colab": {},
    "colab_type": "code",
    "id": "9EfTCy-GtBsp"
   },
   "outputs": [],
   "source": [
    "from sklearn.model_selection import train_test_split\n",
    "from sklearn.metrics import accuracy_score, f1_score, recall_score, precision_score"
   ]
  },
  {
   "cell_type": "code",
   "execution_count": 0,
   "metadata": {
    "colab": {},
    "colab_type": "code",
    "id": "0ljs1JDrtBsw"
   },
   "outputs": [],
   "source": [
    "import pickle"
   ]
  },
  {
   "cell_type": "code",
   "execution_count": 0,
   "metadata": {
    "colab": {},
    "colab_type": "code",
    "id": "Yi4cVcPKtBs2"
   },
   "outputs": [],
   "source": [
    "RANDOM_STATE = 5"
   ]
  },
  {
   "cell_type": "markdown",
   "metadata": {
    "colab_type": "text",
    "id": "h8rjlZ-ftBs9"
   },
   "source": [
    "## Load embeddings\n",
    "\n",
    "Glove embeddings source: https://www.kaggle.com/watts2/glove6b50dtxt"
   ]
  },
  {
   "cell_type": "code",
   "execution_count": 0,
   "metadata": {
    "colab": {},
    "colab_type": "code",
    "id": "IhlxPnm5tBs_"
   },
   "outputs": [],
   "source": [
    "EMBEDDINGS_DIM=50"
   ]
  },
  {
   "cell_type": "code",
   "execution_count": 0,
   "metadata": {
    "colab": {},
    "colab_type": "code",
    "id": "ZawZk_D9tBtF"
   },
   "outputs": [],
   "source": [
    "#generate from glove text file\n",
    "word_to_idx = {}\n",
    "idx_to_word = {}\n",
    "idx_to_vector = {}\n",
    "f = open('/content/drive/My Drive/hackthenews/glove.6B.50d.txt',encoding='utf8')\n",
    "for i,line in enumerate(f):\n",
    "    values = line.split()\n",
    "    word = values[0]\n",
    "    coefs = np.asarray(values[1:], dtype='float32')\n",
    "    word_to_idx[word] = i\n",
    "    idx_to_word[i] = word\n",
    "    idx_to_vector[i] = coefs\n",
    "f.close()"
   ]
  },
  {
   "cell_type": "code",
   "execution_count": 0,
   "metadata": {
    "colab": {},
    "colab_type": "code",
    "id": "lj5R9LrztBtd"
   },
   "outputs": [],
   "source": [
    "n = len(word_to_idx)\n",
    "word_to_idx['UNK'] = n\n",
    "idx_to_word[n] = 'UNK'\n",
    "idx_to_vector[n] = np.zeros(EMBEDDINGS_DIM)"
   ]
  },
  {
   "cell_type": "code",
   "execution_count": 0,
   "metadata": {
    "colab": {},
    "colab_type": "code",
    "id": "BHI50YMoOJxa"
   },
   "outputs": [],
   "source": [
    "n = len(word_to_idx)\n",
    "word_to_idx['URL'] = n\n",
    "idx_to_word[n] = 'URL'\n",
    "idx_to_vector[n] = np.zeros(EMBEDDINGS_DIM)"
   ]
  },
  {
   "cell_type": "code",
   "execution_count": 0,
   "metadata": {
    "colab": {
     "base_uri": "https://localhost:8080/",
     "height": 34
    },
    "colab_type": "code",
    "id": "gF4o074SOtIe",
    "outputId": "69616c9b-bb93-4258-8d1d-9a0474862dc7"
   },
   "outputs": [
    {
     "data": {
      "text/plain": [
       "400002"
      ]
     },
     "execution_count": 42,
     "metadata": {
      "tags": []
     },
     "output_type": "execute_result"
    }
   ],
   "source": [
    "VOCAB_SIZE = len(word_to_idx)\n",
    "VOCAB_SIZE"
   ]
  },
  {
   "cell_type": "code",
   "execution_count": 0,
   "metadata": {
    "colab": {},
    "colab_type": "code",
    "id": "9tWqmynE8cbL"
   },
   "outputs": [],
   "source": [
    "with open('/content/drive/My Drive/hackthenews/word_to_idx.pickle', 'wb') as handle:\n",
    "    pickle.dump(word_to_idx, handle, protocol=pickle.HIGHEST_PROTOCOL)\n",
    "with open('/content/drive/My Drive/hackthenews/idx_to_word.pickle', 'wb') as handle:\n",
    "    pickle.dump(idx_to_word, handle, protocol=pickle.HIGHEST_PROTOCOL)\n",
    "with open('/content/drive/My Drive/hackthenews/idx_to_vector.pickle', 'wb') as handle:\n",
    "    pickle.dump(idx_to_vector, handle, protocol=pickle.HIGHEST_PROTOCOL)"
   ]
  },
  {
   "cell_type": "code",
   "execution_count": 0,
   "metadata": {
    "colab": {},
    "colab_type": "code",
    "id": "zn6Pm7upMJCs"
   },
   "outputs": [],
   "source": [
    "#or load from saved pickles\n",
    "with open('/content/drive/My Drive/hackthenews/word_to_idx.pickle', 'rb') as handle:\n",
    "    word_to_idx = pickle.load(handle)\n",
    "    \n",
    "with open('/content/drive/My Drive/hackthenews/idx_to_word.pickle', 'rb') as handle:\n",
    "    idx_to_word = pickle.load(handle)\n",
    "    \n",
    "with open('/content/drive/My Drive/hackthenews/idx_to_vector.pickle', 'rb') as handle:\n",
    "    idx_to_vector = pickle.load(handle)\n",
    "    \n",
    "VOCAB_SIZE = len(word_to_idx)"
   ]
  },
  {
   "cell_type": "code",
   "execution_count": 0,
   "metadata": {
    "colab": {
     "base_uri": "https://localhost:8080/",
     "height": 34
    },
    "colab_type": "code",
    "id": "r4PJOdAnVJwZ",
    "outputId": "1512b0cc-9a6f-4a76-8db6-3026b9c50b9c"
   },
   "outputs": [
    {
     "data": {
      "text/plain": [
       "400002"
      ]
     },
     "execution_count": 10,
     "metadata": {
      "tags": []
     },
     "output_type": "execute_result"
    }
   ],
   "source": [
    "VOCAB_SIZE"
   ]
  },
  {
   "cell_type": "code",
   "execution_count": 0,
   "metadata": {
    "colab": {
     "base_uri": "https://localhost:8080/",
     "height": 1948
    },
    "colab_type": "code",
    "id": "5oQsO3E1tBtL",
    "outputId": "5c9712d3-af57-4af2-c866-13f2abc48f53"
   },
   "outputs": [
    {
     "name": "stdout",
     "output_type": "stream",
     "text": [
      "the\n",
      ",\n",
      ".\n",
      "of\n",
      "to\n",
      "and\n",
      "in\n",
      "a\n",
      "\"\n",
      "'s\n",
      "for\n",
      "-\n",
      "that\n",
      "on\n",
      "is\n",
      "was\n",
      "said\n",
      "with\n",
      "he\n",
      "as\n",
      "it\n",
      "by\n",
      "at\n",
      "(\n",
      ")\n",
      "from\n",
      "his\n",
      "''\n",
      "``\n",
      "an\n",
      "be\n",
      "has\n",
      "are\n",
      "have\n",
      "but\n",
      "were\n",
      "not\n",
      "this\n",
      "who\n",
      "they\n",
      "had\n",
      "i\n",
      "which\n",
      "will\n",
      "their\n",
      ":\n",
      "or\n",
      "its\n",
      "one\n",
      "after\n",
      "new\n",
      "been\n",
      "also\n",
      "we\n",
      "would\n",
      "two\n",
      "more\n",
      "'\n",
      "first\n",
      "about\n",
      "up\n",
      "when\n",
      "year\n",
      "there\n",
      "all\n",
      "--\n",
      "out\n",
      "she\n",
      "other\n",
      "people\n",
      "n't\n",
      "her\n",
      "percent\n",
      "than\n",
      "over\n",
      "into\n",
      "last\n",
      "some\n",
      "government\n",
      "time\n",
      "$\n",
      "you\n",
      "years\n",
      "if\n",
      "no\n",
      "world\n",
      "can\n",
      "three\n",
      "do\n",
      ";\n",
      "president\n",
      "only\n",
      "state\n",
      "million\n",
      "could\n",
      "us\n",
      "most\n",
      "_\n",
      "against\n",
      "u.s.\n",
      "so\n",
      "them\n"
     ]
    },
    {
     "ename": "TypeError",
     "evalue": "ignored",
     "output_type": "error",
     "traceback": [
      "\u001b[0;31m---------------------------------------------------------------------------\u001b[0m",
      "\u001b[0;31mTypeError\u001b[0m                                 Traceback (most recent call last)",
      "\u001b[0;32m<ipython-input-16-f043818ee29d>\u001b[0m in \u001b[0;36m<module>\u001b[0;34m()\u001b[0m\n\u001b[1;32m      2\u001b[0m     \u001b[0mprint\u001b[0m\u001b[0;34m(\u001b[0m\u001b[0mj\u001b[0m\u001b[0;34m[\u001b[0m\u001b[0;36m0\u001b[0m\u001b[0;34m]\u001b[0m\u001b[0;34m)\u001b[0m\u001b[0;34m\u001b[0m\u001b[0;34m\u001b[0m\u001b[0m\n\u001b[1;32m      3\u001b[0m     \u001b[0;32mif\u001b[0m \u001b[0mi\u001b[0m\u001b[0;34m>\u001b[0m\u001b[0;36m100\u001b[0m\u001b[0;34m:\u001b[0m\u001b[0;34m\u001b[0m\u001b[0;34m\u001b[0m\u001b[0m\n\u001b[0;32m----> 4\u001b[0;31m         \u001b[0mprint\u001b[0m\u001b[0;34m(\u001b[0m\u001b[0mlen\u001b[0m\u001b[0;34m(\u001b[0m\u001b[0mj\u001b[0m\u001b[0;34m[\u001b[0m\u001b[0;36m1\u001b[0m\u001b[0;34m]\u001b[0m\u001b[0;34m)\u001b[0m\u001b[0;34m)\u001b[0m\u001b[0;34m\u001b[0m\u001b[0;34m\u001b[0m\u001b[0m\n\u001b[0m\u001b[1;32m      5\u001b[0m         \u001b[0;32mbreak\u001b[0m\u001b[0;34m\u001b[0m\u001b[0;34m\u001b[0m\u001b[0m\n",
      "\u001b[0;31mTypeError\u001b[0m: object of type 'int' has no len()"
     ]
    }
   ],
   "source": [
    "#explore embeddings\n",
    "for i,j in enumerate(word_to_idx.items()):\n",
    "    print(j[0])\n",
    "    if i>100:\n",
    "        print(len(j[1]))\n",
    "        break"
   ]
  },
  {
   "cell_type": "markdown",
   "metadata": {
    "colab_type": "text",
    "id": "AEM_oql9tBtq"
   },
   "source": [
    "## Loading and Processing Training Data"
   ]
  },
  {
   "cell_type": "code",
   "execution_count": 0,
   "metadata": {
    "colab": {},
    "colab_type": "code",
    "id": "uYj0qGJRWKB6"
   },
   "outputs": [],
   "source": [
    "train_set_file_name = '/content/drive/My Drive/hackthenews/datasets/task1/task1.train.txt'"
   ]
  },
  {
   "cell_type": "code",
   "execution_count": 0,
   "metadata": {
    "colab": {
     "base_uri": "https://localhost:8080/",
     "height": 34
    },
    "colab_type": "code",
    "id": "_k8ihpHEWJIi",
    "outputId": "950815f9-4ba6-4c51-f8e6-27c30be75b61"
   },
   "outputs": [
    {
     "name": "stdout",
     "output_type": "stream",
     "text": [
      "Number of documents in the training set: 35993\n"
     ]
    }
   ],
   "source": [
    "articles_id, articles_content, gold_labels = ([], [], [])\n",
    "with open(train_set_file_name, \"r\") as f:\n",
    "        for line in f.readlines():\n",
    "            article_content, article_id, gold_label = line.rstrip().split(\"\\t\")\n",
    "            articles_id.append(article_id)\n",
    "            articles_content.append(article_content)\n",
    "            gold_labels.append(gold_label)\n",
    "print(\"Number of documents in the training set: %d\"%(len(articles_content)))"
   ]
  },
  {
   "cell_type": "code",
   "execution_count": 0,
   "metadata": {
    "colab": {},
    "colab_type": "code",
    "id": "PcptNZ1ItBtt"
   },
   "outputs": [],
   "source": [
    "train = pd.DataFrame({'id':articles_id, 'text': articles_content, 'target': gold_labels})"
   ]
  },
  {
   "cell_type": "code",
   "execution_count": 0,
   "metadata": {
    "colab": {
     "base_uri": "https://localhost:8080/",
     "height": 34
    },
    "colab_type": "code",
    "id": "ohQTZgCotBtz",
    "outputId": "40fe7552-9221-498e-dad8-f51720bb2180"
   },
   "outputs": [
    {
     "data": {
      "text/plain": [
       "(35993, 3)"
      ]
     },
     "execution_count": 54,
     "metadata": {
      "tags": []
     },
     "output_type": "execute_result"
    }
   ],
   "source": [
    "train.shape"
   ]
  },
  {
   "cell_type": "code",
   "execution_count": 0,
   "metadata": {
    "colab": {
     "base_uri": "https://localhost:8080/",
     "height": 204
    },
    "colab_type": "code",
    "id": "beVdhEdgtBt8",
    "outputId": "df7b1ff0-e478-4dd5-f502-9f9b10c1fbdb"
   },
   "outputs": [
    {
     "data": {
      "text/html": [
       "<div>\n",
       "<style scoped>\n",
       "    .dataframe tbody tr th:only-of-type {\n",
       "        vertical-align: middle;\n",
       "    }\n",
       "\n",
       "    .dataframe tbody tr th {\n",
       "        vertical-align: top;\n",
       "    }\n",
       "\n",
       "    .dataframe thead th {\n",
       "        text-align: right;\n",
       "    }\n",
       "</style>\n",
       "<table border=\"1\" class=\"dataframe\">\n",
       "  <thead>\n",
       "    <tr style=\"text-align: right;\">\n",
       "      <th></th>\n",
       "      <th>id</th>\n",
       "      <th>target</th>\n",
       "      <th>text</th>\n",
       "    </tr>\n",
       "  </thead>\n",
       "  <tbody>\n",
       "    <tr>\n",
       "      <th>0</th>\n",
       "      <td>727600136</td>\n",
       "      <td>non-propaganda</td>\n",
       "      <td>Et tu, Rhody?  A recent editorial in the Provi...</td>\n",
       "    </tr>\n",
       "    <tr>\n",
       "      <th>1</th>\n",
       "      <td>731714618</td>\n",
       "      <td>non-propaganda</td>\n",
       "      <td>A recent post in The Farmington Mirror — our t...</td>\n",
       "    </tr>\n",
       "    <tr>\n",
       "      <th>2</th>\n",
       "      <td>731714635</td>\n",
       "      <td>non-propaganda</td>\n",
       "      <td>President Donald Trump, as he often does while...</td>\n",
       "    </tr>\n",
       "    <tr>\n",
       "      <th>3</th>\n",
       "      <td>728627182</td>\n",
       "      <td>non-propaganda</td>\n",
       "      <td>February is Black History Month, and nothing l...</td>\n",
       "    </tr>\n",
       "    <tr>\n",
       "      <th>4</th>\n",
       "      <td>728627443</td>\n",
       "      <td>non-propaganda</td>\n",
       "      <td>The snow was so heavy, whipped up by gusting w...</td>\n",
       "    </tr>\n",
       "  </tbody>\n",
       "</table>\n",
       "</div>"
      ],
      "text/plain": [
       "          id          target  \\\n",
       "0  727600136  non-propaganda   \n",
       "1  731714618  non-propaganda   \n",
       "2  731714635  non-propaganda   \n",
       "3  728627182  non-propaganda   \n",
       "4  728627443  non-propaganda   \n",
       "\n",
       "                                                text  \n",
       "0  Et tu, Rhody?  A recent editorial in the Provi...  \n",
       "1  A recent post in The Farmington Mirror — our t...  \n",
       "2  President Donald Trump, as he often does while...  \n",
       "3  February is Black History Month, and nothing l...  \n",
       "4  The snow was so heavy, whipped up by gusting w...  "
      ]
     },
     "execution_count": 58,
     "metadata": {
      "tags": []
     },
     "output_type": "execute_result"
    }
   ],
   "source": [
    "train.head()"
   ]
  },
  {
   "cell_type": "code",
   "execution_count": 0,
   "metadata": {
    "colab": {},
    "colab_type": "code",
    "id": "GUI_DjsetBuI"
   },
   "outputs": [],
   "source": [
    "def process_text(text):\n",
    "    parser = English()\n",
    "    tokens = []\n",
    "    for token in parser(text):\n",
    "        if token.orth_.isspace():\n",
    "            continue\n",
    "        elif token.like_url:\n",
    "            tokens.append('URL')\n",
    "        else:\n",
    "            tokens.append(token.lower_)\n",
    "    #tokens = np.vectorize(lambda x: word_to_idx.get(x, word_to_idx['UNK']))(tokens) #returns np array\n",
    "    tokens = list(map(lambda x: word_to_idx.get(x, word_to_idx['UNK']), tokens)) #returns list\n",
    "    return tokens"
   ]
  },
  {
   "cell_type": "code",
   "execution_count": 0,
   "metadata": {
    "colab": {},
    "colab_type": "code",
    "id": "W_T54EqGtBuR"
   },
   "outputs": [],
   "source": [
    "def process_df(df):\n",
    "    df['target'] = df['target'].map({'propaganda':1,'non-propaganda':0})\n",
    "    df['text']=df['text'].apply(process_text)\n",
    "    df['len']= df['text'].apply(lambda x: len(x))\n",
    "    return df"
   ]
  },
  {
   "cell_type": "code",
   "execution_count": 0,
   "metadata": {
    "colab": {},
    "colab_type": "code",
    "id": "NIy3q-tOtBui"
   },
   "outputs": [],
   "source": [
    "train = process_df(train)"
   ]
  },
  {
   "cell_type": "code",
   "execution_count": 0,
   "metadata": {
    "colab": {},
    "colab_type": "code",
    "id": "y6653giftBuu"
   },
   "outputs": [],
   "source": [
    "with open('/content/drive/My Drive/hackthenews/task1_train_spacy.pickle', 'wb') as handle:\n",
    "    pickle.dump(train.to_dict(), handle, protocol=pickle.HIGHEST_PROTOCOL)"
   ]
  },
  {
   "cell_type": "code",
   "execution_count": 0,
   "metadata": {
    "colab": {},
    "colab_type": "code",
    "id": "6m_YTGJzYHbk"
   },
   "outputs": [],
   "source": [
    "# or reload preprocessed dict from saved pickle\n",
    "with open('/content/drive/My Drive/hackthenews/task1_train_spacy.pickle', 'rb') as handle:\n",
    "    train = pd.DataFrame(pickle.load(handle))"
   ]
  },
  {
   "cell_type": "code",
   "execution_count": 0,
   "metadata": {
    "colab": {
     "base_uri": "https://localhost:8080/",
     "height": 34
    },
    "colab_type": "code",
    "id": "FBAqwxpDK5XB",
    "outputId": "5e9b8c0a-12f6-4f83-b0e8-7aa97dc9386b"
   },
   "outputs": [
    {
     "data": {
      "text/plain": [
       "(35993, 4)"
      ]
     },
     "execution_count": 62,
     "metadata": {
      "tags": []
     },
     "output_type": "execute_result"
    }
   ],
   "source": [
    "train.shape"
   ]
  },
  {
   "cell_type": "code",
   "execution_count": 0,
   "metadata": {
    "colab": {
     "base_uri": "https://localhost:8080/",
     "height": 514
    },
    "colab_type": "code",
    "id": "RMlb3pNktBu2",
    "outputId": "a44751b6-e463-45b7-9d90-5a13301b553e"
   },
   "outputs": [
    {
     "data": {
      "text/html": [
       "<div>\n",
       "<style scoped>\n",
       "    .dataframe tbody tr th:only-of-type {\n",
       "        vertical-align: middle;\n",
       "    }\n",
       "\n",
       "    .dataframe tbody tr th {\n",
       "        vertical-align: top;\n",
       "    }\n",
       "\n",
       "    .dataframe thead th {\n",
       "        text-align: right;\n",
       "    }\n",
       "</style>\n",
       "<table border=\"1\" class=\"dataframe\">\n",
       "  <thead>\n",
       "    <tr style=\"text-align: right;\">\n",
       "      <th></th>\n",
       "      <th>id</th>\n",
       "      <th>target</th>\n",
       "      <th>text</th>\n",
       "      <th>len</th>\n",
       "    </tr>\n",
       "  </thead>\n",
       "  <tbody>\n",
       "    <tr>\n",
       "      <th>35978</th>\n",
       "      <td>784555056</td>\n",
       "      <td>1</td>\n",
       "      <td>[438, 82, 49, 0, 1084, 3, 0, 136, 98, 2035, 1,...</td>\n",
       "      <td>1003</td>\n",
       "    </tr>\n",
       "    <tr>\n",
       "      <th>35979</th>\n",
       "      <td>784555422</td>\n",
       "      <td>1</td>\n",
       "      <td>[6, 396, 709, 1, 7, 742, 11, 321, 358, 3, 868,...</td>\n",
       "      <td>861</td>\n",
       "    </tr>\n",
       "    <tr>\n",
       "      <th>35980</th>\n",
       "      <td>784556485</td>\n",
       "      <td>1</td>\n",
       "      <td>[109, 3, 95, 6, 0, 139, 33, 3128, 162, 2714, 6...</td>\n",
       "      <td>881</td>\n",
       "    </tr>\n",
       "    <tr>\n",
       "      <th>35981</th>\n",
       "      <td>784855236</td>\n",
       "      <td>1</td>\n",
       "      <td>[6, 29, 962, 17, 6431, 172, 1744, 11, 6, 11, 2...</td>\n",
       "      <td>308</td>\n",
       "    </tr>\n",
       "    <tr>\n",
       "      <th>35982</th>\n",
       "      <td>784855886</td>\n",
       "      <td>1</td>\n",
       "      <td>[2855, 64, 1145, 21, 924, 20487, 76, 147, 1, 4...</td>\n",
       "      <td>1179</td>\n",
       "    </tr>\n",
       "    <tr>\n",
       "      <th>35983</th>\n",
       "      <td>785266460</td>\n",
       "      <td>1</td>\n",
       "      <td>[400001, 3126, 799, 23024, 31, 29, 2048, 4522,...</td>\n",
       "      <td>218</td>\n",
       "    </tr>\n",
       "    <tr>\n",
       "      <th>35984</th>\n",
       "      <td>785149287</td>\n",
       "      <td>1</td>\n",
       "      <td>[1773, 827, 1, 3832, 346, 45, 41, 913, 521, 89...</td>\n",
       "      <td>877</td>\n",
       "    </tr>\n",
       "    <tr>\n",
       "      <th>35985</th>\n",
       "      <td>785429194</td>\n",
       "      <td>1</td>\n",
       "      <td>[0, 341, 14, 36, 767, 89, 20, 14, 69, 38, 32, ...</td>\n",
       "      <td>3624</td>\n",
       "    </tr>\n",
       "    <tr>\n",
       "      <th>35986</th>\n",
       "      <td>785429583</td>\n",
       "      <td>1</td>\n",
       "      <td>[0, 50, 196, 246, 1827, 4, 50150, 1003, 6, 0, ...</td>\n",
       "      <td>1468</td>\n",
       "    </tr>\n",
       "    <tr>\n",
       "      <th>35987</th>\n",
       "      <td>785430430</td>\n",
       "      <td>1</td>\n",
       "      <td>[1408, 20, 784, 191, 19320, 2, 81, 303, 4, 146...</td>\n",
       "      <td>671</td>\n",
       "    </tr>\n",
       "    <tr>\n",
       "      <th>35988</th>\n",
       "      <td>785781276</td>\n",
       "      <td>1</td>\n",
       "      <td>[25, 0, 8610, 45, 2484, 6, 1342, 33, 399, 3818...</td>\n",
       "      <td>711</td>\n",
       "    </tr>\n",
       "    <tr>\n",
       "      <th>35989</th>\n",
       "      <td>785781322</td>\n",
       "      <td>1</td>\n",
       "      <td>[0, 126, 1942, 3, 6431, 172, 13, 6179, 226, 65...</td>\n",
       "      <td>258</td>\n",
       "    </tr>\n",
       "    <tr>\n",
       "      <th>35990</th>\n",
       "      <td>785781455</td>\n",
       "      <td>1</td>\n",
       "      <td>[20, 14, 1084, 2, 1403, 1, 20, 784, 51, 4841, ...</td>\n",
       "      <td>597</td>\n",
       "    </tr>\n",
       "    <tr>\n",
       "      <th>35991</th>\n",
       "      <td>785781711</td>\n",
       "      <td>1</td>\n",
       "      <td>[6711, 784, 1812, 45, 19, 1385, 10702, 4775, 3...</td>\n",
       "      <td>2239</td>\n",
       "    </tr>\n",
       "    <tr>\n",
       "      <th>35992</th>\n",
       "      <td>786060460</td>\n",
       "      <td>1</td>\n",
       "      <td>[1408, 84, 300, 86, 1367, 55, 3527, 1419, 23, ...</td>\n",
       "      <td>1369</td>\n",
       "    </tr>\n",
       "  </tbody>\n",
       "</table>\n",
       "</div>"
      ],
      "text/plain": [
       "              id  target                                               text  \\\n",
       "35978  784555056       1  [438, 82, 49, 0, 1084, 3, 0, 136, 98, 2035, 1,...   \n",
       "35979  784555422       1  [6, 396, 709, 1, 7, 742, 11, 321, 358, 3, 868,...   \n",
       "35980  784556485       1  [109, 3, 95, 6, 0, 139, 33, 3128, 162, 2714, 6...   \n",
       "35981  784855236       1  [6, 29, 962, 17, 6431, 172, 1744, 11, 6, 11, 2...   \n",
       "35982  784855886       1  [2855, 64, 1145, 21, 924, 20487, 76, 147, 1, 4...   \n",
       "35983  785266460       1  [400001, 3126, 799, 23024, 31, 29, 2048, 4522,...   \n",
       "35984  785149287       1  [1773, 827, 1, 3832, 346, 45, 41, 913, 521, 89...   \n",
       "35985  785429194       1  [0, 341, 14, 36, 767, 89, 20, 14, 69, 38, 32, ...   \n",
       "35986  785429583       1  [0, 50, 196, 246, 1827, 4, 50150, 1003, 6, 0, ...   \n",
       "35987  785430430       1  [1408, 20, 784, 191, 19320, 2, 81, 303, 4, 146...   \n",
       "35988  785781276       1  [25, 0, 8610, 45, 2484, 6, 1342, 33, 399, 3818...   \n",
       "35989  785781322       1  [0, 126, 1942, 3, 6431, 172, 13, 6179, 226, 65...   \n",
       "35990  785781455       1  [20, 14, 1084, 2, 1403, 1, 20, 784, 51, 4841, ...   \n",
       "35991  785781711       1  [6711, 784, 1812, 45, 19, 1385, 10702, 4775, 3...   \n",
       "35992  786060460       1  [1408, 84, 300, 86, 1367, 55, 3527, 1419, 23, ...   \n",
       "\n",
       "        len  \n",
       "35978  1003  \n",
       "35979   861  \n",
       "35980   881  \n",
       "35981   308  \n",
       "35982  1179  \n",
       "35983   218  \n",
       "35984   877  \n",
       "35985  3624  \n",
       "35986  1468  \n",
       "35987   671  \n",
       "35988   711  \n",
       "35989   258  \n",
       "35990   597  \n",
       "35991  2239  \n",
       "35992  1369  "
      ]
     },
     "execution_count": 63,
     "metadata": {
      "tags": []
     },
     "output_type": "execute_result"
    }
   ],
   "source": [
    "train.tail(15)"
   ]
  },
  {
   "cell_type": "code",
   "execution_count": 0,
   "metadata": {
    "colab": {
     "base_uri": "https://localhost:8080/",
     "height": 34
    },
    "colab_type": "code",
    "id": "RKXKGJCXOI5I",
    "outputId": "ee0ef8fc-9b20-41b3-a2b3-fca9caea7970"
   },
   "outputs": [
    {
     "name": "stdout",
     "output_type": "stream",
     "text": [
      "24359033 training tokens\n"
     ]
    }
   ],
   "source": [
    "print(train['len'].sum(),\"training tokens\")"
   ]
  },
  {
   "cell_type": "code",
   "execution_count": 0,
   "metadata": {
    "colab": {
     "base_uri": "https://localhost:8080/",
     "height": 34
    },
    "colab_type": "code",
    "id": "z8vEiUCEOd3d",
    "outputId": "e11a474e-7617-4fde-9b77-87c31afad609"
   },
   "outputs": [
    {
     "name": "stdout",
     "output_type": "stream",
     "text": [
      "0.11171616703247854\n"
     ]
    }
   ],
   "source": [
    "print(train['target'].sum()/len(train))"
   ]
  },
  {
   "cell_type": "code",
   "execution_count": 0,
   "metadata": {
    "colab": {
     "base_uri": "https://localhost:8080/",
     "height": 170
    },
    "colab_type": "code",
    "id": "SwVZZ6ZEtBvB",
    "outputId": "fe1babd2-e52f-4665-a107-1c8224455725"
   },
   "outputs": [
    {
     "data": {
      "text/plain": [
       "count    35993.000000\n",
       "mean       676.771400\n",
       "std        590.370924\n",
       "min          9.000000\n",
       "25%        319.000000\n",
       "50%        533.000000\n",
       "75%        879.000000\n",
       "max      20125.000000\n",
       "Name: len, dtype: float64"
      ]
     },
     "execution_count": 66,
     "metadata": {
      "tags": []
     },
     "output_type": "execute_result"
    }
   ],
   "source": [
    "train['len'].describe()"
   ]
  },
  {
   "cell_type": "markdown",
   "metadata": {
    "colab_type": "text",
    "id": "KdHLYDm6tBu9"
   },
   "source": [
    "## MODEL"
   ]
  },
  {
   "cell_type": "markdown",
   "metadata": {
    "colab_type": "text",
    "id": "RROjly5RtBu_"
   },
   "source": [
    "### Get X,y"
   ]
  },
  {
   "cell_type": "code",
   "execution_count": 0,
   "metadata": {
    "colab": {},
    "colab_type": "code",
    "id": "t7-eeZCEtBvJ"
   },
   "outputs": [],
   "source": [
    "SEQUENCE_LENGTH = 1000"
   ]
  },
  {
   "cell_type": "code",
   "execution_count": 0,
   "metadata": {
    "colab": {},
    "colab_type": "code",
    "id": "6AEnRdwVaRpp"
   },
   "outputs": [],
   "source": [
    "def get_X(df, seq_len, unk_idx):\n",
    "    X = pad_sequences(df['text'].values, maxlen=seq_len, padding='post', truncating='post', value=unk_idx)\n",
    "    return X"
   ]
  },
  {
   "cell_type": "code",
   "execution_count": 0,
   "metadata": {
    "colab": {},
    "colab_type": "code",
    "id": "H60m3OC0tBvO"
   },
   "outputs": [],
   "source": [
    "def get_Xy(df, seq_len, unk_idx):\n",
    "    X = get_X(df, seq_len, unk_idx)\n",
    "    y = df['target'].values\n",
    "    return X,y"
   ]
  },
  {
   "cell_type": "code",
   "execution_count": 0,
   "metadata": {
    "colab": {},
    "colab_type": "code",
    "id": "RuRTro3ptBvS"
   },
   "outputs": [],
   "source": [
    "X, y = get_Xy(train, SEQUENCE_LENGTH, word_to_idx['UNK'])"
   ]
  },
  {
   "cell_type": "code",
   "execution_count": 0,
   "metadata": {
    "colab": {},
    "colab_type": "code",
    "id": "bX0qN2SatBvY"
   },
   "outputs": [],
   "source": [
    "X_train, X_valid, y_train, y_valid = train_test_split(X, y, test_size=0.2, random_state=RANDOM_STATE, shuffle=True)"
   ]
  },
  {
   "cell_type": "code",
   "execution_count": 0,
   "metadata": {
    "colab": {
     "base_uri": "https://localhost:8080/",
     "height": 51
    },
    "colab_type": "code",
    "id": "SqK7f-4YcxbQ",
    "outputId": "4f98efdc-8c3f-47a8-9e4e-0c1e406037c4"
   },
   "outputs": [
    {
     "name": "stdout",
     "output_type": "stream",
     "text": [
      "3206\n",
      "815\n"
     ]
    }
   ],
   "source": [
    "print(y_train.sum())\n",
    "print(y_valid.sum())"
   ]
  },
  {
   "cell_type": "markdown",
   "metadata": {
    "colab_type": "text",
    "id": "MGzggpIztBvh"
   },
   "source": [
    "### Model"
   ]
  },
  {
   "cell_type": "code",
   "execution_count": 0,
   "metadata": {
    "colab": {},
    "colab_type": "code",
    "id": "fDduiKrptBvj"
   },
   "outputs": [],
   "source": [
    "embedding_matrix = np.zeros((VOCAB_SIZE,EMBEDDINGS_DIM))\n",
    "for i,vector in idx_to_vector.items():\n",
    "    embedding_matrix[i]=vector"
   ]
  },
  {
   "cell_type": "code",
   "execution_count": 0,
   "metadata": {
    "colab": {},
    "colab_type": "code",
    "id": "SoJxyefEtBvo"
   },
   "outputs": [],
   "source": [
    "embedding_layer = Embedding(VOCAB_SIZE,\n",
    "                            EMBEDDINGS_DIM,\n",
    "                            weights=[embedding_matrix],\n",
    "                            input_length=SEQUENCE_LENGTH,\n",
    "                            trainable=True)"
   ]
  },
  {
   "cell_type": "code",
   "execution_count": 0,
   "metadata": {
    "colab": {},
    "colab_type": "code",
    "id": "tUf_n2UdtBvu"
   },
   "outputs": [],
   "source": [
    "#'64u BLSTM layer, batchnorm, 0.2 dropout, 2u BLSTM layer return seq, batchnorm, flatten, 1 dense. Pos Threshold=0.5. Trainable embeddings. 3 epochs'\n",
    "inp = Input(shape=(SEQUENCE_LENGTH,))\n",
    "x = embedded_sequences = embedding_layer(inp)\n",
    "x = Bidirectional(CuDNNLSTM(64, return_sequences=True))(x) \n",
    "x = BatchNormalization()(x)\n",
    "x = Dropout(0.2)(x) \n",
    "x = Bidirectional(CuDNNLSTM(2, return_sequences=True))(x) \n",
    "x = BatchNormalization()(x)\n",
    "x = Flatten()(x)\n",
    "#x = Dropout(0.2)(x) \n",
    "#x = Bidirectional(CuDNNLSTM(32))(x) \n",
    "#x = BatchNormalization()(x)\n",
    "#x = Dropout(0.2)(x) \n",
    "x = Dense(1, activation=\"sigmoid\")(x)\n",
    "model = Model(inputs=inp, outputs=x)\n",
    "model.compile(loss='binary_crossentropy', optimizer='adam', metrics=['accuracy'])"
   ]
  },
  {
   "cell_type": "code",
   "execution_count": 0,
   "metadata": {
    "colab": {
     "base_uri": "https://localhost:8080/",
     "height": 442
    },
    "colab_type": "code",
    "id": "rZQirdcPtBv0",
    "outputId": "bff5e52c-a1f3-429d-8a17-6922ef338d8e"
   },
   "outputs": [
    {
     "name": "stdout",
     "output_type": "stream",
     "text": [
      "_________________________________________________________________\n",
      "Layer (type)                 Output Shape              Param #   \n",
      "=================================================================\n",
      "input_2 (InputLayer)         (None, 1000)              0         \n",
      "_________________________________________________________________\n",
      "embedding_1 (Embedding)      (None, 1000, 50)          20000100  \n",
      "_________________________________________________________________\n",
      "bidirectional_3 (Bidirection (None, 1000, 128)         59392     \n",
      "_________________________________________________________________\n",
      "batch_normalization_3 (Batch (None, 1000, 128)         512       \n",
      "_________________________________________________________________\n",
      "dropout_2 (Dropout)          (None, 1000, 128)         0         \n",
      "_________________________________________________________________\n",
      "bidirectional_4 (Bidirection (None, 1000, 4)           2112      \n",
      "_________________________________________________________________\n",
      "batch_normalization_4 (Batch (None, 1000, 4)           16        \n",
      "_________________________________________________________________\n",
      "flatten_2 (Flatten)          (None, 4000)              0         \n",
      "_________________________________________________________________\n",
      "dense_2 (Dense)              (None, 1)                 4001      \n",
      "=================================================================\n",
      "Total params: 20,066,133\n",
      "Trainable params: 20,065,869\n",
      "Non-trainable params: 264\n",
      "_________________________________________________________________\n"
     ]
    }
   ],
   "source": [
    "model.summary()"
   ]
  },
  {
   "cell_type": "code",
   "execution_count": 0,
   "metadata": {
    "colab": {
     "base_uri": "https://localhost:8080/",
     "height": 445
    },
    "colab_type": "code",
    "id": "wPfqOaSqtBv6",
    "outputId": "16e663f2-88ef-470f-935c-46164fb2f338"
   },
   "outputs": [
    {
     "name": "stdout",
     "output_type": "stream",
     "text": [
      "Train on 28794 samples, validate on 7199 samples\n",
      "Epoch 1/5\n",
      "28794/28794 [==============================] - 384s 13ms/step - loss: 0.1897 - acc: 0.9267 - val_loss: 0.5358 - val_acc: 0.9012\n",
      "\n",
      "Epoch 00001: val_loss improved from inf to 0.53584, saving model to /content/drive/My Drive/hackthenews/checkpoints/model1553766134.hdf5\n",
      "Epoch 2/5\n",
      "28794/28794 [==============================] - 383s 13ms/step - loss: 0.1023 - acc: 0.9624 - val_loss: 0.3383 - val_acc: 0.8796\n",
      "\n",
      "Epoch 00002: val_loss improved from 0.53584 to 0.33829, saving model to /content/drive/My Drive/hackthenews/checkpoints/model1553766134.hdf5\n",
      "Epoch 3/5\n",
      "28794/28794 [==============================] - 383s 13ms/step - loss: 0.0486 - acc: 0.9831 - val_loss: 0.1394 - val_acc: 0.9615\n",
      "\n",
      "Epoch 00003: val_loss improved from 0.33829 to 0.13936, saving model to /content/drive/My Drive/hackthenews/checkpoints/model1553766134.hdf5\n",
      "Epoch 4/5\n",
      "28794/28794 [==============================] - 383s 13ms/step - loss: 0.0217 - acc: 0.9922 - val_loss: 0.2487 - val_acc: 0.9476\n",
      "\n",
      "Epoch 00004: val_loss did not improve from 0.13936\n",
      "Epoch 5/5\n",
      "28794/28794 [==============================] - 383s 13ms/step - loss: 0.0097 - acc: 0.9965 - val_loss: 0.1966 - val_acc: 0.9635\n",
      "Restoring model weights from the end of the best epoch\n",
      "\n",
      "Epoch 00005: val_loss did not improve from 0.13936\n",
      "Epoch 00005: early stopping\n"
     ]
    },
    {
     "data": {
      "text/plain": [
       "<keras.callbacks.History at 0x7fa406f0d668>"
      ]
     },
     "execution_count": 92,
     "metadata": {
      "tags": []
     },
     "output_type": "execute_result"
    }
   ],
   "source": [
    "curr_time = str(int(time.time()))\n",
    "check_point = ModelCheckpoint('/content/drive/My Drive/hackthenews/checkpoints/model'+curr_time+'.hdf5',verbose=True, save_best_only=True)\n",
    "early_stop = EarlyStopping(monitor='val_loss', patience=2, verbose=True, restore_best_weights=True)\n",
    "tensorboard_cb = TensorBoard(log_dir='/Graph', histogram_freq=0, write_graph=True, write_images=True)\n",
    "model.fit(X_train, y_train, epochs=5, batch_size=32, validation_data=(X_valid,y_valid), verbose=1, callbacks=[early_stop, tensorboard_cb, check_point])"
   ]
  },
  {
   "cell_type": "code",
   "execution_count": 0,
   "metadata": {
    "colab": {},
    "colab_type": "code",
    "id": "xXj4w9XxFfJK"
   },
   "outputs": [],
   "source": [
    "!tensorboard --logdir path_to_current_dir/Graph "
   ]
  },
  {
   "cell_type": "code",
   "execution_count": 0,
   "metadata": {
    "colab": {},
    "colab_type": "code",
    "id": "QyjHq9pXECYS"
   },
   "outputs": [],
   "source": [
    "#model.load_weights('/content/drive/My Drive/hackthenews/checkpoints/model1548528103.hdf5')"
   ]
  },
  {
   "cell_type": "code",
   "execution_count": 0,
   "metadata": {
    "colab": {},
    "colab_type": "code",
    "id": "sxg_k_rUtBwA"
   },
   "outputs": [],
   "source": [
    "yhat_train = model.predict(X_train)\n",
    "yhat_valid = model.predict(X_valid)"
   ]
  },
  {
   "cell_type": "code",
   "execution_count": 0,
   "metadata": {
    "colab": {
     "base_uri": "https://localhost:8080/",
     "height": 51
    },
    "colab_type": "code",
    "id": "cyXOmKLRtBwE",
    "outputId": "e41266b3-296a-4cbe-92a3-a2c6e71f9297"
   },
   "outputs": [
    {
     "name": "stdout",
     "output_type": "stream",
     "text": [
      "3258\n",
      "816\n"
     ]
    }
   ],
   "source": [
    "yhat_train_b = (yhat_train >= 0.5).astype(int)\n",
    "print(yhat_train_b.sum())\n",
    "yhat_valid_b = (yhat_valid >= 0.5).astype(int)\n",
    "print(yhat_valid_b.sum())"
   ]
  },
  {
   "cell_type": "code",
   "execution_count": 0,
   "metadata": {
    "colab": {},
    "colab_type": "code",
    "id": "ZWv10aem2Ser"
   },
   "outputs": [],
   "source": [
    "def model_scorer(y, yhat, scores=None, prefix=\"\", metrics_dict=None):\n",
    "    if metrics_dict is None:\n",
    "        metrics_dict = {'acc': accuracy_score,\n",
    "                     'precision': precision_score,\n",
    "                     'recall': recall_score,\n",
    "                     'f1': f1_score}\n",
    "    scores_dict = {}\n",
    "\n",
    "    for metric, fn in metrics_dict.items():\n",
    "        scores_dict[prefix+metric] = fn(y, yhat)\n",
    "        print(metric,': ',scores_dict[prefix+metric])\n",
    "\n",
    "    if scores is None:\n",
    "        scores = scores_dict\n",
    "    else:\n",
    "        scores.update(scores_dict)\n",
    "\n",
    "    return scores"
   ]
  },
  {
   "cell_type": "code",
   "execution_count": 0,
   "metadata": {
    "colab": {
     "base_uri": "https://localhost:8080/",
     "height": 204
    },
    "colab_type": "code",
    "id": "k-JtRd92tBwJ",
    "outputId": "beb8d384-e5d3-4026-a800-8f72df38fb3c"
   },
   "outputs": [
    {
     "name": "stdout",
     "output_type": "stream",
     "text": [
      "Training..\n",
      "acc :  0.9938876154754462\n",
      "precision :  0.9650092081031307\n",
      "recall :  0.9806612601372426\n",
      "f1 :  0.9727722772277227\n",
      "\n",
      "Validation..\n",
      "acc :  0.9615224336713433\n",
      "precision :  0.8296568627450981\n",
      "recall :  0.8306748466257668\n",
      "f1 :  0.8301655426118946\n"
     ]
    }
   ],
   "source": [
    "scores = {'desc': '(model 10 with spacy tokens) 64u BLSTM layer, batchnorm, 0.2 dropout, 2u BLSTM layer return seq, batchnorm, flatten, 1 dense. Pos Threshold=0.5. Trainable embeddings. 5 epochs'}\n",
    "scores['model_checkpoint'] = curr_time\n",
    "print('Training..')\n",
    "scores = model_scorer(y_train, yhat_train_b, scores, prefix='train_')\n",
    "print()\n",
    "print('Validation..')\n",
    "scores = model_scorer(y_valid, yhat_valid_b, scores, prefix='valid_')"
   ]
  },
  {
   "cell_type": "code",
   "execution_count": 0,
   "metadata": {
    "colab": {
     "base_uri": "https://localhost:8080/",
     "height": 207
    },
    "colab_type": "code",
    "id": "66a26NXXhxf4",
    "outputId": "b0dccd95-fbad-4997-9f73-3318d96ab00e"
   },
   "outputs": [
    {
     "data": {
      "text/plain": [
       "{'desc': '(model 10 with spacy tokens) 64u BLSTM layer, batchnorm, 0.2 dropout, 2u BLSTM layer return seq, batchnorm, flatten, 1 dense. Pos Threshold=0.5. Trainable embeddings. 5 epochs',\n",
       " 'model_checkpoint': '1553766134',\n",
       " 'train_acc': 0.9938876154754462,\n",
       " 'train_f1': 0.9727722772277227,\n",
       " 'train_precision': 0.9650092081031307,\n",
       " 'train_recall': 0.9806612601372426,\n",
       " 'valid_acc': 0.9615224336713433,\n",
       " 'valid_f1': 0.8301655426118946,\n",
       " 'valid_precision': 0.8296568627450981,\n",
       " 'valid_recall': 0.8306748466257668}"
      ]
     },
     "execution_count": 97,
     "metadata": {
      "tags": []
     },
     "output_type": "execute_result"
    }
   ],
   "source": [
    "scores"
   ]
  },
  {
   "cell_type": "code",
   "execution_count": 0,
   "metadata": {
    "colab": {},
    "colab_type": "code",
    "id": "qtC82PwOtBwP"
   },
   "outputs": [],
   "source": [
    "scores_df = pd.read_csv('/content/drive/My Drive/hackthenews/new_scores.csv', index_col=0)\n",
    "scores_df = scores_df.append(pd.Series(scores).rename(len(scores_df)))\n",
    "scores_df.to_csv('/content/drive/My Drive/hackthenews/new_scores.csv')"
   ]
  },
  {
   "cell_type": "code",
   "execution_count": 0,
   "metadata": {
    "colab": {
     "base_uri": "https://localhost:8080/",
     "height": 219
    },
    "colab_type": "code",
    "id": "sjFvRkTEcivF",
    "outputId": "9c62c237-5a24-4304-d7cf-45589ab40c82"
   },
   "outputs": [
    {
     "data": {
      "text/html": [
       "<div>\n",
       "<style scoped>\n",
       "    .dataframe tbody tr th:only-of-type {\n",
       "        vertical-align: middle;\n",
       "    }\n",
       "\n",
       "    .dataframe tbody tr th {\n",
       "        vertical-align: top;\n",
       "    }\n",
       "\n",
       "    .dataframe thead th {\n",
       "        text-align: right;\n",
       "    }\n",
       "</style>\n",
       "<table border=\"1\" class=\"dataframe\">\n",
       "  <thead>\n",
       "    <tr style=\"text-align: right;\">\n",
       "      <th></th>\n",
       "      <th>desc</th>\n",
       "      <th>model_checkpoint</th>\n",
       "      <th>train_acc</th>\n",
       "      <th>train_f1</th>\n",
       "      <th>train_precision</th>\n",
       "      <th>train_recall</th>\n",
       "      <th>valid_acc</th>\n",
       "      <th>valid_f1</th>\n",
       "      <th>valid_precision</th>\n",
       "      <th>valid_recall</th>\n",
       "    </tr>\n",
       "  </thead>\n",
       "  <tbody>\n",
       "    <tr>\n",
       "      <th>0</th>\n",
       "      <td>(model 10 with spacy tokens) 64u BLSTM layer, ...</td>\n",
       "      <td>1553766134</td>\n",
       "      <td>0.993888</td>\n",
       "      <td>0.972772</td>\n",
       "      <td>0.965009</td>\n",
       "      <td>0.980661</td>\n",
       "      <td>0.961522</td>\n",
       "      <td>0.830166</td>\n",
       "      <td>0.829657</td>\n",
       "      <td>0.830675</td>\n",
       "    </tr>\n",
       "  </tbody>\n",
       "</table>\n",
       "</div>"
      ],
      "text/plain": [
       "                                                desc  model_checkpoint  \\\n",
       "0  (model 10 with spacy tokens) 64u BLSTM layer, ...        1553766134   \n",
       "\n",
       "   train_acc  train_f1  train_precision  train_recall  valid_acc  valid_f1  \\\n",
       "0   0.993888  0.972772         0.965009      0.980661   0.961522  0.830166   \n",
       "\n",
       "   valid_precision  valid_recall  \n",
       "0         0.829657      0.830675  "
      ]
     },
     "execution_count": 102,
     "metadata": {
      "tags": []
     },
     "output_type": "execute_result"
    }
   ],
   "source": [
    "scores_df = pd.read_csv('/content/drive/My Drive/hackthenews/new_scores.csv', index_col=0)\n",
    "scores_df"
   ]
  },
  {
   "cell_type": "code",
   "execution_count": 0,
   "metadata": {
    "colab": {
     "base_uri": "https://localhost:8080/",
     "height": 54
    },
    "colab_type": "code",
    "id": "ke1UHcEdhtV4",
    "outputId": "4f9f3995-09a9-4678-f0e6-952bddd478e0"
   },
   "outputs": [
    {
     "name": "stdout",
     "output_type": "stream",
     "text": [
      "(model 10 with spacy tokens) 64u BLSTM layer, batchnorm, 0.2 dropout, 2u BLSTM layer return seq, batchnorm, flatten, 1 dense. Pos Threshold=0.5. Trainable embeddings. 5 epochs\n"
     ]
    }
   ],
   "source": [
    "for i in range(len(scores_df)):\n",
    "  print(scores_df['desc'].iloc[i])"
   ]
  },
  {
   "cell_type": "markdown",
   "metadata": {
    "colab_type": "text",
    "id": "qFktkWV0aay6"
   },
   "source": [
    "## Dev Set"
   ]
  },
  {
   "cell_type": "code",
   "execution_count": 0,
   "metadata": {
    "colab": {},
    "colab_type": "code",
    "id": "phEIUa0fVWTo"
   },
   "outputs": [],
   "source": [
    "dev_set_file_name = '/content/drive/My Drive/hackthenews/datasets/dev/task1/task1.dev.txt'"
   ]
  },
  {
   "cell_type": "code",
   "execution_count": 0,
   "metadata": {
    "colab": {},
    "colab_type": "code",
    "id": "eVJ1MGorVSf1"
   },
   "outputs": [],
   "source": [
    "dev_articles_content, dev_articles_id = ([], [])\n",
    "with open(dev_set_file_name) as f:\n",
    "    for line in f.readlines():\n",
    "            article_content, article_id, gold_label = line.rstrip().split(\"\\t\")\n",
    "            dev_articles_content.append(article_content)\n",
    "            dev_articles_id.append(article_id)"
   ]
  },
  {
   "cell_type": "code",
   "execution_count": 0,
   "metadata": {
    "colab": {},
    "colab_type": "code",
    "id": "fWblwXx_aeOX"
   },
   "outputs": [],
   "source": [
    "dev = pd.DataFrame({'id': dev_articles_id, 'text':dev_articles_content})"
   ]
  },
  {
   "cell_type": "code",
   "execution_count": 0,
   "metadata": {
    "colab": {},
    "colab_type": "code",
    "id": "p0vUiO2NZlnQ"
   },
   "outputs": [],
   "source": [
    "dev['target'] = [np.NaN]*len(dev)"
   ]
  },
  {
   "cell_type": "code",
   "execution_count": 0,
   "metadata": {
    "colab": {
     "base_uri": "https://localhost:8080/",
     "height": 34
    },
    "colab_type": "code",
    "id": "I2AkzR8NYd9n",
    "outputId": "af66f2af-83aa-4416-b128-8c1fbb31355d"
   },
   "outputs": [
    {
     "data": {
      "text/plain": [
       "(5116, 3)"
      ]
     },
     "execution_count": 73,
     "metadata": {
      "tags": []
     },
     "output_type": "execute_result"
    }
   ],
   "source": [
    "dev.shape"
   ]
  },
  {
   "cell_type": "code",
   "execution_count": 0,
   "metadata": {
    "colab": {
     "base_uri": "https://localhost:8080/",
     "height": 204
    },
    "colab_type": "code",
    "id": "K18yYbGsYzCb",
    "outputId": "44237f92-f666-4fc1-d593-4ed2989ac1f5"
   },
   "outputs": [
    {
     "data": {
      "text/html": [
       "<div>\n",
       "<style scoped>\n",
       "    .dataframe tbody tr th:only-of-type {\n",
       "        vertical-align: middle;\n",
       "    }\n",
       "\n",
       "    .dataframe tbody tr th {\n",
       "        vertical-align: top;\n",
       "    }\n",
       "\n",
       "    .dataframe thead th {\n",
       "        text-align: right;\n",
       "    }\n",
       "</style>\n",
       "<table border=\"1\" class=\"dataframe\">\n",
       "  <thead>\n",
       "    <tr style=\"text-align: right;\">\n",
       "      <th></th>\n",
       "      <th>id</th>\n",
       "      <th>text</th>\n",
       "      <th>target</th>\n",
       "    </tr>\n",
       "  </thead>\n",
       "  <tbody>\n",
       "    <tr>\n",
       "      <th>0</th>\n",
       "      <td>200017</td>\n",
       "      <td>Building a quick beat, the North Chicago poet ...</td>\n",
       "      <td>NaN</td>\n",
       "    </tr>\n",
       "    <tr>\n",
       "      <th>1</th>\n",
       "      <td>200036</td>\n",
       "      <td>If you needed a further reminder of how Metro ...</td>\n",
       "      <td>NaN</td>\n",
       "    </tr>\n",
       "    <tr>\n",
       "      <th>2</th>\n",
       "      <td>200038</td>\n",
       "      <td>Taylor Swift famously withheld her back catalo...</td>\n",
       "      <td>NaN</td>\n",
       "    </tr>\n",
       "    <tr>\n",
       "      <th>3</th>\n",
       "      <td>200086</td>\n",
       "      <td>May 14 squall line on radar. (Radarscope)  Mon...</td>\n",
       "      <td>NaN</td>\n",
       "    </tr>\n",
       "    <tr>\n",
       "      <th>4</th>\n",
       "      <td>200113</td>\n",
       "      <td>A pre-emptive attack by the United States agai...</td>\n",
       "      <td>NaN</td>\n",
       "    </tr>\n",
       "  </tbody>\n",
       "</table>\n",
       "</div>"
      ],
      "text/plain": [
       "       id                                               text  target\n",
       "0  200017  Building a quick beat, the North Chicago poet ...     NaN\n",
       "1  200036  If you needed a further reminder of how Metro ...     NaN\n",
       "2  200038  Taylor Swift famously withheld her back catalo...     NaN\n",
       "3  200086  May 14 squall line on radar. (Radarscope)  Mon...     NaN\n",
       "4  200113  A pre-emptive attack by the United States agai...     NaN"
      ]
     },
     "execution_count": 74,
     "metadata": {
      "tags": []
     },
     "output_type": "execute_result"
    }
   ],
   "source": [
    "dev.head()"
   ]
  },
  {
   "cell_type": "code",
   "execution_count": 0,
   "metadata": {
    "colab": {},
    "colab_type": "code",
    "id": "pB3ZbU-kWUc-"
   },
   "outputs": [],
   "source": [
    "dev = process_df(dev)"
   ]
  },
  {
   "cell_type": "code",
   "execution_count": 0,
   "metadata": {
    "colab": {
     "base_uri": "https://localhost:8080/",
     "height": 204
    },
    "colab_type": "code",
    "id": "ry0360YQZWnK",
    "outputId": "a6d97d62-3173-4b15-ca7a-4fb75212101a"
   },
   "outputs": [
    {
     "data": {
      "text/html": [
       "<div>\n",
       "<style scoped>\n",
       "    .dataframe tbody tr th:only-of-type {\n",
       "        vertical-align: middle;\n",
       "    }\n",
       "\n",
       "    .dataframe tbody tr th {\n",
       "        vertical-align: top;\n",
       "    }\n",
       "\n",
       "    .dataframe thead th {\n",
       "        text-align: right;\n",
       "    }\n",
       "</style>\n",
       "<table border=\"1\" class=\"dataframe\">\n",
       "  <thead>\n",
       "    <tr style=\"text-align: right;\">\n",
       "      <th></th>\n",
       "      <th>id</th>\n",
       "      <th>text</th>\n",
       "      <th>target</th>\n",
       "      <th>len</th>\n",
       "    </tr>\n",
       "  </thead>\n",
       "  <tbody>\n",
       "    <tr>\n",
       "      <th>0</th>\n",
       "      <td>200017</td>\n",
       "      <td>[447, 7, 2582, 960, 1, 0, 193, 1147, 4819, 136...</td>\n",
       "      <td>NaN</td>\n",
       "      <td>844</td>\n",
       "    </tr>\n",
       "    <tr>\n",
       "      <th>1</th>\n",
       "      <td>200036</td>\n",
       "      <td>[83, 81, 911, 7, 489, 8889, 3, 197, 5083, 4859...</td>\n",
       "      <td>NaN</td>\n",
       "      <td>243</td>\n",
       "    </tr>\n",
       "    <tr>\n",
       "      <th>2</th>\n",
       "      <td>200038</td>\n",
       "      <td>[2485, 6596, 11689, 13147, 71, 137, 13257, 25,...</td>\n",
       "      <td>NaN</td>\n",
       "      <td>1075</td>\n",
       "    </tr>\n",
       "    <tr>\n",
       "      <th>3</th>\n",
       "      <td>200086</td>\n",
       "      <td>[107, 657, 55053, 331, 13, 5366, 2, 23, 400000...</td>\n",
       "      <td>NaN</td>\n",
       "      <td>1141</td>\n",
       "    </tr>\n",
       "    <tr>\n",
       "      <th>4</th>\n",
       "      <td>200113</td>\n",
       "      <td>[7, 100893, 436, 21, 0, 104, 112, 98, 193, 574...</td>\n",
       "      <td>NaN</td>\n",
       "      <td>497</td>\n",
       "    </tr>\n",
       "  </tbody>\n",
       "</table>\n",
       "</div>"
      ],
      "text/plain": [
       "       id                                               text  target   len\n",
       "0  200017  [447, 7, 2582, 960, 1, 0, 193, 1147, 4819, 136...     NaN   844\n",
       "1  200036  [83, 81, 911, 7, 489, 8889, 3, 197, 5083, 4859...     NaN   243\n",
       "2  200038  [2485, 6596, 11689, 13147, 71, 137, 13257, 25,...     NaN  1075\n",
       "3  200086  [107, 657, 55053, 331, 13, 5366, 2, 23, 400000...     NaN  1141\n",
       "4  200113  [7, 100893, 436, 21, 0, 104, 112, 98, 193, 574...     NaN   497"
      ]
     },
     "execution_count": 76,
     "metadata": {
      "tags": []
     },
     "output_type": "execute_result"
    }
   ],
   "source": [
    "dev.head()"
   ]
  },
  {
   "cell_type": "code",
   "execution_count": 0,
   "metadata": {
    "colab": {},
    "colab_type": "code",
    "id": "2HcKLq9aWUdF"
   },
   "outputs": [],
   "source": [
    "with open('/content/drive/My Drive/hackthenews/task1_dev.pickle', 'wb') as handle:\n",
    "    pickle.dump(dev.to_dict(), handle, protocol=pickle.HIGHEST_PROTOCOL)"
   ]
  },
  {
   "cell_type": "code",
   "execution_count": 0,
   "metadata": {
    "colab": {},
    "colab_type": "code",
    "id": "RsUiVm8tWUdK"
   },
   "outputs": [],
   "source": [
    "# or reload preprocessed dict from saved pickle\n",
    "with open('/content/drive/My Drive/hackthenews/task1_dev.pickle', 'rb') as handle:\n",
    "    dev = pd.DataFrame(pickle.load(handle))"
   ]
  },
  {
   "cell_type": "code",
   "execution_count": 0,
   "metadata": {
    "colab": {},
    "colab_type": "code",
    "id": "vzVQZmnQalOO"
   },
   "outputs": [],
   "source": [
    "X_dev = get_X(dev, SEQUENCE_LENGTH, word_to_idx['UNK'])"
   ]
  },
  {
   "cell_type": "code",
   "execution_count": 0,
   "metadata": {
    "colab": {},
    "colab_type": "code",
    "id": "moJRXGlMZ7i8"
   },
   "outputs": [],
   "source": [
    "yhat_dev = model.predict(X_dev)"
   ]
  },
  {
   "cell_type": "code",
   "execution_count": 0,
   "metadata": {
    "colab": {
     "base_uri": "https://localhost:8080/",
     "height": 34
    },
    "colab_type": "code",
    "id": "qlIPHQTrbDb_",
    "outputId": "cc2284fc-d0a4-4a6f-8140-1251ce1672e5"
   },
   "outputs": [
    {
     "name": "stdout",
     "output_type": "stream",
     "text": [
      "578\n"
     ]
    }
   ],
   "source": [
    "yhat_dev_b = (yhat_dev>=0.5).astype(int)\n",
    "print(yhat_dev_b.sum())"
   ]
  },
  {
   "cell_type": "code",
   "execution_count": 0,
   "metadata": {
    "colab": {},
    "colab_type": "code",
    "id": "G9UxlMmpbXll"
   },
   "outputs": [],
   "source": [
    "labels = {1:'propaganda', 0:'non-propaganda'}\n",
    "with open(\"/content/drive/My Drive/hackthenews/task1-dev-predictions.txt\", \"w\") as fout:\n",
    "    for i, idx in enumerate(dev['id']):\n",
    "        fout.write(\"%s\\t%s\\n\" % (idx, labels[yhat_dev_b[i][0]]))\n"
   ]
  }
 ],
 "metadata": {
  "accelerator": "GPU",
  "colab": {
   "collapsed_sections": [],
   "name": "Copy of hackthenews-task1-a2.ipynb",
   "provenance": [],
   "toc_visible": true,
   "version": "0.3.2"
  },
  "kernelspec": {
   "display_name": "Python 3",
   "language": "python",
   "name": "python3"
  },
  "language_info": {
   "codemirror_mode": {
    "name": "ipython",
    "version": 3
   },
   "file_extension": ".py",
   "mimetype": "text/x-python",
   "name": "python",
   "nbconvert_exporter": "python",
   "pygments_lexer": "ipython3",
   "version": "3.6.4"
  }
 },
 "nbformat": 4,
 "nbformat_minor": 1
}
